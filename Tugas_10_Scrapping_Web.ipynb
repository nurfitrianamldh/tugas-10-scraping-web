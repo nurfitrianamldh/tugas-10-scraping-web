{
  "cells": [
    {
      "cell_type": "markdown",
      "metadata": {
        "id": "view-in-github",
        "colab_type": "text"
      },
      "source": [
        "<a href=\"https://colab.research.google.com/github/nurfitrianamldh/tugas-10-scraping-web/blob/main/Tugas_10_Scrapping_Web.ipynb\" target=\"_parent\"><img src=\"https://colab.research.google.com/assets/colab-badge.svg\" alt=\"Open In Colab\"/></a>"
      ]
    },
    {
      "cell_type": "code",
      "execution_count": null,
      "metadata": {
        "colab": {
          "base_uri": "https://localhost:8080/"
        },
        "id": "I7enx0A7Y-nb",
        "outputId": "9884cb24-8611-45b8-8f67-487aa90fa198"
      },
      "outputs": [
        {
          "output_type": "stream",
          "name": "stdout",
          "text": [
            "Requirement already satisfied: beautifulsoup4 in /usr/local/lib/python3.10/dist-packages (4.12.3)\n",
            "Requirement already satisfied: soupsieve>1.2 in /usr/local/lib/python3.10/dist-packages (from beautifulsoup4) (2.6)\n"
          ]
        }
      ],
      "source": [
        "pip install beautifulsoup4"
      ]
    },
    {
      "cell_type": "code",
      "execution_count": null,
      "metadata": {
        "id": "6IasF4g5ZTGn"
      },
      "outputs": [],
      "source": [
        "import requests\n",
        "from bs4 import BeautifulSoup\n",
        "from csv import writer"
      ]
    },
    {
      "cell_type": "code",
      "execution_count": null,
      "metadata": {
        "id": "cNsIJv7iZ40q"
      },
      "outputs": [],
      "source": [
        "# URL halaman utama\n",
        "url = \"https://revou.co/data-analytics\"\n",
        "\n",
        "# Mengirim request ke situs\n",
        "response = requests.get(url)\n",
        "\n",
        "# Parsing HTML\n",
        "soup = BeautifulSoup(response.text, 'html.parser')"
      ]
    },
    {
      "cell_type": "code",
      "execution_count": null,
      "metadata": {
        "id": "nkxjM1X7E2Jo",
        "colab": {
          "base_uri": "https://localhost:8080/"
        },
        "outputId": "97f6cce7-1440-40c8-cdc0-fbbbdbac112d"
      },
      "outputs": [
        {
          "output_type": "stream",
          "name": "stdout",
          "text": [
            "Text: “The world as we have created it is a process of our thinking. It cannot be changed without changing our thinking.”\n",
            "Author: Albert Einstein\n",
            "\n",
            "Text: “It is our choices, Harry, that show what we truly are, far more than our abilities.”\n",
            "Author: J.K. Rowling\n",
            "\n",
            "Text: “There are only two ways to live your life. One is as though nothing is a miracle. The other is as though everything is a miracle.”\n",
            "Author: Albert Einstein\n",
            "\n",
            "Text: “The person, be it gentleman or lady, who has not pleasure in a good novel, must be intolerably stupid.”\n",
            "Author: Jane Austen\n",
            "\n",
            "Text: “Imperfection is beauty, madness is genius and it's better to be absolutely ridiculous than absolutely boring.”\n",
            "Author: Marilyn Monroe\n",
            "\n",
            "Text: “Try not to become a man of success. Rather become a man of value.”\n",
            "Author: Albert Einstein\n",
            "\n",
            "Text: “It is better to be hated for what you are than to be loved for what you are not.”\n",
            "Author: André Gide\n",
            "\n",
            "Text: “I have not failed. I've just found 10,000 ways that won't work.”\n",
            "Author: Thomas A. Edison\n",
            "\n",
            "Text: “A woman is like a tea bag; you never know how strong it is until it's in hot water.”\n",
            "Author: Eleanor Roosevelt\n",
            "\n",
            "Text: “A day without sunshine is like, you know, night.”\n",
            "Author: Steve Martin\n",
            "\n"
          ]
        }
      ],
      "source": [
        "# Membuka file CSV untuk menulis data\n",
        "with open('materi_kursus_data_analyst.csv', 'w') as file:\n",
        "  csv_writer = writer(file)\n",
        "  csv_writer.writerow(['Name', 'Description'])  # Menulis header CSV\n",
        "\n",
        "  # Menemukan semua elemen kutipan\n",
        "  companies = soup.find_all(\"div\", class_=\"carriculum-collection-accordian-wrap\")\n",
        "  for company in companies:\n",
        "    # Ambil data nama materi\n",
        "    name = company.find(\"h3\", class_=\"carriculum-heading-h3\").text\n",
        "    # Ambil data poin-poin\n",
        "    point = company.find('div', class_='accordion2_content w-richtext').text\n",
        "\n",
        "    # Menampilkan data di console\n",
        "    print(f\"Name: {name}\")\n",
        "    print(f\"Point: {point}\\n\")\n",
        "\n",
        "    # Menulis data ke CSV\n",
        "    csv_writer.writerow([name, point])"
      ]
    }
  ],
  "metadata": {
    "colab": {
      "provenance": [],
      "authorship_tag": "ABX9TyNzhVEOHPeqfgErfT+yViEs",
      "include_colab_link": true
    },
    "kernelspec": {
      "display_name": "Python 3",
      "name": "python3"
    },
    "language_info": {
      "name": "python"
    }
  },
  "nbformat": 4,
  "nbformat_minor": 0
}